{
  "nbformat": 4,
  "nbformat_minor": 0,
  "metadata": {
    "colab": {
      "name": "PerezJuanCarlos_RECV_Entrega6.ipynb",
      "provenance": [],
      "authorship_tag": "ABX9TyMXLOvrzc9FCst3Wor2UhKN"
    },
    "kernelspec": {
      "name": "python3",
      "display_name": "Python 3"
    },
    "language_info": {
      "name": "python"
    },
    "widgets": {
      "application/vnd.jupyter.widget-state+json": {
        "34cec648602e40b08ba402edccb2acd4": {
          "model_module": "@jupyter-widgets/controls",
          "model_name": "HBoxModel",
          "model_module_version": "1.5.0",
          "state": {
            "_view_name": "HBoxView",
            "_dom_classes": [],
            "_model_name": "HBoxModel",
            "_view_module": "@jupyter-widgets/controls",
            "_model_module_version": "1.5.0",
            "_view_count": null,
            "_view_module_version": "1.5.0",
            "box_style": "",
            "layout": "IPY_MODEL_55366cac00074e12964f8a33db7a9d0b",
            "_model_module": "@jupyter-widgets/controls",
            "children": [
              "IPY_MODEL_a4b63834f76f421f9220089f5f412c62",
              "IPY_MODEL_f8266c6e13db42a3bcb09912c8e9618c",
              "IPY_MODEL_fe469bc34b304a56b9716b17bb831e81"
            ]
          }
        },
        "55366cac00074e12964f8a33db7a9d0b": {
          "model_module": "@jupyter-widgets/base",
          "model_name": "LayoutModel",
          "model_module_version": "1.2.0",
          "state": {
            "_view_name": "LayoutView",
            "grid_template_rows": null,
            "right": null,
            "justify_content": null,
            "_view_module": "@jupyter-widgets/base",
            "overflow": null,
            "_model_module_version": "1.2.0",
            "_view_count": null,
            "flex_flow": null,
            "width": null,
            "min_width": null,
            "border": null,
            "align_items": null,
            "bottom": null,
            "_model_module": "@jupyter-widgets/base",
            "top": null,
            "grid_column": null,
            "overflow_y": null,
            "overflow_x": null,
            "grid_auto_flow": null,
            "grid_area": null,
            "grid_template_columns": null,
            "flex": null,
            "_model_name": "LayoutModel",
            "justify_items": null,
            "grid_row": null,
            "max_height": null,
            "align_content": null,
            "visibility": null,
            "align_self": null,
            "height": null,
            "min_height": null,
            "padding": null,
            "grid_auto_rows": null,
            "grid_gap": null,
            "max_width": null,
            "order": null,
            "_view_module_version": "1.2.0",
            "grid_template_areas": null,
            "object_position": null,
            "object_fit": null,
            "grid_auto_columns": null,
            "margin": null,
            "display": null,
            "left": null
          }
        },
        "a4b63834f76f421f9220089f5f412c62": {
          "model_module": "@jupyter-widgets/controls",
          "model_name": "HTMLModel",
          "model_module_version": "1.5.0",
          "state": {
            "_view_name": "HTMLView",
            "style": "IPY_MODEL_58460f489df34b8795e20319f4ac6ef8",
            "_dom_classes": [],
            "description": "",
            "_model_name": "HTMLModel",
            "placeholder": "​",
            "_view_module": "@jupyter-widgets/controls",
            "_model_module_version": "1.5.0",
            "value": "100%",
            "_view_count": null,
            "_view_module_version": "1.5.0",
            "description_tooltip": null,
            "_model_module": "@jupyter-widgets/controls",
            "layout": "IPY_MODEL_f33eacb365a747879a00e232a25613a7"
          }
        },
        "f8266c6e13db42a3bcb09912c8e9618c": {
          "model_module": "@jupyter-widgets/controls",
          "model_name": "FloatProgressModel",
          "model_module_version": "1.5.0",
          "state": {
            "_view_name": "ProgressView",
            "style": "IPY_MODEL_fe712ae2d6944f50b1160b469a2c9c59",
            "_dom_classes": [],
            "description": "",
            "_model_name": "FloatProgressModel",
            "bar_style": "success",
            "max": 1,
            "_view_module": "@jupyter-widgets/controls",
            "_model_module_version": "1.5.0",
            "value": 1,
            "_view_count": null,
            "_view_module_version": "1.5.0",
            "orientation": "horizontal",
            "min": 0,
            "description_tooltip": null,
            "_model_module": "@jupyter-widgets/controls",
            "layout": "IPY_MODEL_4907d51bdc3043fd93ec2226b764f2e1"
          }
        },
        "fe469bc34b304a56b9716b17bb831e81": {
          "model_module": "@jupyter-widgets/controls",
          "model_name": "HTMLModel",
          "model_module_version": "1.5.0",
          "state": {
            "_view_name": "HTMLView",
            "style": "IPY_MODEL_8218c46f54c940948a99beaea851d40c",
            "_dom_classes": [],
            "description": "",
            "_model_name": "HTMLModel",
            "placeholder": "​",
            "_view_module": "@jupyter-widgets/controls",
            "_model_module_version": "1.5.0",
            "value": " 1/1 [00:08&lt;00:00,  8.82s/it]",
            "_view_count": null,
            "_view_module_version": "1.5.0",
            "description_tooltip": null,
            "_model_module": "@jupyter-widgets/controls",
            "layout": "IPY_MODEL_e6d11b99b9384dcb898894da5ab66ded"
          }
        },
        "58460f489df34b8795e20319f4ac6ef8": {
          "model_module": "@jupyter-widgets/controls",
          "model_name": "DescriptionStyleModel",
          "model_module_version": "1.5.0",
          "state": {
            "_view_name": "StyleView",
            "_model_name": "DescriptionStyleModel",
            "description_width": "",
            "_view_module": "@jupyter-widgets/base",
            "_model_module_version": "1.5.0",
            "_view_count": null,
            "_view_module_version": "1.2.0",
            "_model_module": "@jupyter-widgets/controls"
          }
        },
        "f33eacb365a747879a00e232a25613a7": {
          "model_module": "@jupyter-widgets/base",
          "model_name": "LayoutModel",
          "model_module_version": "1.2.0",
          "state": {
            "_view_name": "LayoutView",
            "grid_template_rows": null,
            "right": null,
            "justify_content": null,
            "_view_module": "@jupyter-widgets/base",
            "overflow": null,
            "_model_module_version": "1.2.0",
            "_view_count": null,
            "flex_flow": null,
            "width": null,
            "min_width": null,
            "border": null,
            "align_items": null,
            "bottom": null,
            "_model_module": "@jupyter-widgets/base",
            "top": null,
            "grid_column": null,
            "overflow_y": null,
            "overflow_x": null,
            "grid_auto_flow": null,
            "grid_area": null,
            "grid_template_columns": null,
            "flex": null,
            "_model_name": "LayoutModel",
            "justify_items": null,
            "grid_row": null,
            "max_height": null,
            "align_content": null,
            "visibility": null,
            "align_self": null,
            "height": null,
            "min_height": null,
            "padding": null,
            "grid_auto_rows": null,
            "grid_gap": null,
            "max_width": null,
            "order": null,
            "_view_module_version": "1.2.0",
            "grid_template_areas": null,
            "object_position": null,
            "object_fit": null,
            "grid_auto_columns": null,
            "margin": null,
            "display": null,
            "left": null
          }
        },
        "fe712ae2d6944f50b1160b469a2c9c59": {
          "model_module": "@jupyter-widgets/controls",
          "model_name": "ProgressStyleModel",
          "model_module_version": "1.5.0",
          "state": {
            "_view_name": "StyleView",
            "_model_name": "ProgressStyleModel",
            "description_width": "",
            "_view_module": "@jupyter-widgets/base",
            "_model_module_version": "1.5.0",
            "_view_count": null,
            "_view_module_version": "1.2.0",
            "bar_color": null,
            "_model_module": "@jupyter-widgets/controls"
          }
        },
        "4907d51bdc3043fd93ec2226b764f2e1": {
          "model_module": "@jupyter-widgets/base",
          "model_name": "LayoutModel",
          "model_module_version": "1.2.0",
          "state": {
            "_view_name": "LayoutView",
            "grid_template_rows": null,
            "right": null,
            "justify_content": null,
            "_view_module": "@jupyter-widgets/base",
            "overflow": null,
            "_model_module_version": "1.2.0",
            "_view_count": null,
            "flex_flow": null,
            "width": null,
            "min_width": null,
            "border": null,
            "align_items": null,
            "bottom": null,
            "_model_module": "@jupyter-widgets/base",
            "top": null,
            "grid_column": null,
            "overflow_y": null,
            "overflow_x": null,
            "grid_auto_flow": null,
            "grid_area": null,
            "grid_template_columns": null,
            "flex": null,
            "_model_name": "LayoutModel",
            "justify_items": null,
            "grid_row": null,
            "max_height": null,
            "align_content": null,
            "visibility": null,
            "align_self": null,
            "height": null,
            "min_height": null,
            "padding": null,
            "grid_auto_rows": null,
            "grid_gap": null,
            "max_width": null,
            "order": null,
            "_view_module_version": "1.2.0",
            "grid_template_areas": null,
            "object_position": null,
            "object_fit": null,
            "grid_auto_columns": null,
            "margin": null,
            "display": null,
            "left": null
          }
        },
        "8218c46f54c940948a99beaea851d40c": {
          "model_module": "@jupyter-widgets/controls",
          "model_name": "DescriptionStyleModel",
          "model_module_version": "1.5.0",
          "state": {
            "_view_name": "StyleView",
            "_model_name": "DescriptionStyleModel",
            "description_width": "",
            "_view_module": "@jupyter-widgets/base",
            "_model_module_version": "1.5.0",
            "_view_count": null,
            "_view_module_version": "1.2.0",
            "_model_module": "@jupyter-widgets/controls"
          }
        },
        "e6d11b99b9384dcb898894da5ab66ded": {
          "model_module": "@jupyter-widgets/base",
          "model_name": "LayoutModel",
          "model_module_version": "1.2.0",
          "state": {
            "_view_name": "LayoutView",
            "grid_template_rows": null,
            "right": null,
            "justify_content": null,
            "_view_module": "@jupyter-widgets/base",
            "overflow": null,
            "_model_module_version": "1.2.0",
            "_view_count": null,
            "flex_flow": null,
            "width": null,
            "min_width": null,
            "border": null,
            "align_items": null,
            "bottom": null,
            "_model_module": "@jupyter-widgets/base",
            "top": null,
            "grid_column": null,
            "overflow_y": null,
            "overflow_x": null,
            "grid_auto_flow": null,
            "grid_area": null,
            "grid_template_columns": null,
            "flex": null,
            "_model_name": "LayoutModel",
            "justify_items": null,
            "grid_row": null,
            "max_height": null,
            "align_content": null,
            "visibility": null,
            "align_self": null,
            "height": null,
            "min_height": null,
            "padding": null,
            "grid_auto_rows": null,
            "grid_gap": null,
            "max_width": null,
            "order": null,
            "_view_module_version": "1.2.0",
            "grid_template_areas": null,
            "object_position": null,
            "object_fit": null,
            "grid_auto_columns": null,
            "margin": null,
            "display": null,
            "left": null
          }
        }
      }
    }
  },
  "cells": [
    {
      "cell_type": "markdown",
      "metadata": {
        "id": "pUxndQFa2XQ3"
      },
      "source": [
        "# Overfitting y Regularización "
      ]
    },
    {
      "cell_type": "code",
      "metadata": {
        "id": "KZ0UZKTH2eBu"
      },
      "source": [
        "#!unzip mnist.zip"
      ],
      "execution_count": null,
      "outputs": []
    },
    {
      "cell_type": "code",
      "metadata": {
        "id": "jHprAOZ42yNp"
      },
      "source": [
        "import numpy as np \n",
        "import matplotlib.pyplot as plt"
      ],
      "execution_count": 3,
      "outputs": []
    },
    {
      "cell_type": "code",
      "metadata": {
        "id": "Pzrl6qJt25ve"
      },
      "source": [
        "from glob import glob"
      ],
      "execution_count": 4,
      "outputs": []
    },
    {
      "cell_type": "code",
      "metadata": {
        "id": "MkcFof6S4dTV",
        "colab": {
          "base_uri": "https://localhost:8080/",
          "height": 35
        },
        "outputId": "dea8cfff-a1fb-44b7-dde9-cccedcf9e54e"
      },
      "source": [
        "train_files = glob('./mnist/train/*/*.png')\n",
        "valid_files = glob('./mnist/valid/*/*.png')\n",
        "test_files = glob('./mnist/test/*/*.png')\n",
        "\n",
        "train_files[0]"
      ],
      "execution_count": 5,
      "outputs": [
        {
          "output_type": "execute_result",
          "data": {
            "application/vnd.google.colaboratory.intrinsic+json": {
              "type": "string"
            },
            "text/plain": [
              "'./mnist/train/1/6783.png'"
            ]
          },
          "metadata": {},
          "execution_count": 5
        }
      ]
    },
    {
      "cell_type": "code",
      "metadata": {
        "colab": {
          "base_uri": "https://localhost:8080/",
          "height": 35
        },
        "id": "thyKQ6Qn59w_",
        "outputId": "6be8eaab-063a-4a4b-9e50-e245b15cfa63"
      },
      "source": [
        "test_files[0]"
      ],
      "execution_count": 6,
      "outputs": [
        {
          "output_type": "execute_result",
          "data": {
            "application/vnd.google.colaboratory.intrinsic+json": {
              "type": "string"
            },
            "text/plain": [
              "'./mnist/test/1/725.png'"
            ]
          },
          "metadata": {},
          "execution_count": 6
        }
      ]
    },
    {
      "cell_type": "code",
      "metadata": {
        "id": "sT2PycUZ4y4Q"
      },
      "source": [
        "np.random.shuffle(train_files)\n",
        "np.random.shuffle(valid_files)\n",
        "np.random.shuffle(test_files)"
      ],
      "execution_count": 7,
      "outputs": []
    },
    {
      "cell_type": "code",
      "metadata": {
        "id": "puQrcoC846LW"
      },
      "source": [
        "from PIL import Image\n",
        "N_train = len(train_files)\n",
        "X_train = []\n",
        "Y_train = []\n",
        "\n",
        "for i, train_file in enumerate(train_files):\n",
        "  Y_train.append( int(train_file.split('/')[3]) )\n",
        "  X_train.append(np.array(Image.open(train_file)))"
      ],
      "execution_count": 8,
      "outputs": []
    },
    {
      "cell_type": "code",
      "metadata": {
        "id": "n3zP4WFX5zHw"
      },
      "source": [
        "#--- Cargamos los datos de validación en listas\n",
        "N_valid = len(valid_files)\n",
        "X_valid = []\n",
        "Y_valid = []\n",
        "\n",
        "for i, valid_file in enumerate(valid_files):\n",
        "  Y_valid.append( int(valid_file.split('/')[3]) )\n",
        "  X_valid.append( np.array(Image.open(valid_file)) )"
      ],
      "execution_count": 9,
      "outputs": []
    },
    {
      "cell_type": "code",
      "metadata": {
        "id": "InpoaRnv5zbe"
      },
      "source": [
        "#--- Cargamos los datos de testeo en listas\n",
        "N_test = len(test_files)\n",
        "X_test = []\n",
        "Y_test = []\n",
        "\n",
        "for i, test_file in enumerate(test_files):\n",
        "  Y_test.append( int(test_file.split('/')[3]) )\n",
        "  X_test.append( np.array(Image.open(test_file)) )"
      ],
      "execution_count": 10,
      "outputs": []
    },
    {
      "cell_type": "code",
      "metadata": {
        "colab": {
          "base_uri": "https://localhost:8080/"
        },
        "id": "4xe3ineq507Y",
        "outputId": "a0869d5d-49a9-4b23-94dc-3fab3ad23357"
      },
      "source": [
        "len(X_train), len(X_valid), len(X_test)"
      ],
      "execution_count": 11,
      "outputs": [
        {
          "output_type": "execute_result",
          "data": {
            "text/plain": [
              "(6000, 2000, 992)"
            ]
          },
          "metadata": {},
          "execution_count": 11
        }
      ]
    },
    {
      "cell_type": "code",
      "metadata": {
        "colab": {
          "base_uri": "https://localhost:8080/",
          "height": 350
        },
        "id": "Ey3tuutW52y2",
        "outputId": "1a5d62e8-f57b-4dc0-8c91-326a9790100d"
      },
      "source": [
        "#--- Visualizamos la distribución de clases en cada subset\n",
        "from PIL import Image\n",
        "import matplotlib.pyplot as plt\n",
        "\n",
        "fig = plt.figure(figsize=(15,5))\n",
        "plt.subplot(1,3,1)\n",
        "plt.hist(np.sort(Y_train))\n",
        "plt.xlabel('class')\n",
        "plt.ylabel('counts')\n",
        "plt.title('Train set')\n",
        "\n",
        "plt.subplot(1,3,2)\n",
        "plt.hist(np.sort(Y_valid))\n",
        "plt.xlabel('class')\n",
        "plt.ylabel('counts')\n",
        "plt.title('Valid set')\n",
        "\n",
        "plt.subplot(1,3,3)\n",
        "plt.hist(np.sort(Y_test))\n",
        "plt.xlabel('class')\n",
        "plt.ylabel('counts')\n",
        "plt.title('Test set')\n",
        "\n",
        "plt.show()"
      ],
      "execution_count": 12,
      "outputs": [
        {
          "output_type": "display_data",
          "data": {
            "image/png": "[encoded data removed]",
            "text/plain": [
              "<Figure size 1080x360 with 3 Axes>"
            ]
          },
          "metadata": {
            "needs_background": "light"
          }
        }
      ]
    },
    {
      "cell_type": "code",
      "metadata": {
        "id": "FuEn5kFu55Mg",
        "colab": {
          "base_uri": "https://localhost:8080/"
        },
        "outputId": "7c38a838-b34a-458f-aab8-d3a0afe30271"
      },
      "source": [
        "import torch\n",
        "input_dim = 28*28\n",
        "output_dim = 10\n",
        "hidden = 60\n",
        "\n",
        "model = torch.nn.Sequential(\n",
        "    torch.nn.Linear(input_dim, hidden),\n",
        "    torch.nn.ReLU(),\n",
        "    torch.nn.Linear(hidden,hidden),\n",
        "    torch.nn.ReLU(),\n",
        "    torch.nn.Linear(hidden,hidden),\n",
        "    torch.nn.ReLU(),\n",
        "    torch.nn.Linear(hidden,hidden),\n",
        "    torch.nn.ReLU(),\n",
        "    torch.nn.Linear(hidden,output_dim)\n",
        ")\n",
        "model\n"
      ],
      "execution_count": 13,
      "outputs": [
        {
          "output_type": "execute_result",
          "data": {
            "text/plain": [
              "Sequential(\n",
              "  (0): Linear(in_features=784, out_features=60, bias=True)\n",
              "  (1): ReLU()\n",
              "  (2): Linear(in_features=60, out_features=60, bias=True)\n",
              "  (3): ReLU()\n",
              "  (4): Linear(in_features=60, out_features=60, bias=True)\n",
              "  (5): ReLU()\n",
              "  (6): Linear(in_features=60, out_features=60, bias=True)\n",
              "  (7): ReLU()\n",
              "  (8): Linear(in_features=60, out_features=10, bias=True)\n",
              ")"
            ]
          },
          "metadata": {},
          "execution_count": 13
        }
      ]
    },
    {
      "cell_type": "code",
      "metadata": {
        "colab": {
          "base_uri": "https://localhost:8080/"
        },
        "id": "KHmgF-3E980n",
        "outputId": "bdb78f52-479f-423e-b3fe-3dd9a5f6795a"
      },
      "source": [
        "\n",
        "#--- Convetimos las listas con los datos a tensores de torch\n",
        "import torch\n",
        "from torch.autograd import Variable\n",
        "\n",
        "\n",
        "X_train = Variable(torch.from_numpy(np.array(X_train))).float()\n",
        "Y_train = Variable(torch.from_numpy(np.array(Y_train))).long()\n",
        "\n",
        "X_valid = Variable(torch.from_numpy(np.array(X_valid))).float()\n",
        "Y_valid = Variable(torch.from_numpy(np.array(Y_valid))).long()\n",
        "\n",
        "X_test = Variable(torch.from_numpy(np.array(X_test))).float()\n",
        "Y_test = Variable(torch.from_numpy(np.array(Y_test))).long()\n",
        "\n",
        "X_train.data.size()"
      ],
      "execution_count": 14,
      "outputs": [
        {
          "output_type": "execute_result",
          "data": {
            "text/plain": [
              "torch.Size([6000, 28, 28])"
            ]
          },
          "metadata": {},
          "execution_count": 14
        }
      ]
    },
    {
      "cell_type": "code",
      "metadata": {
        "id": "AKfeKj-vH9sM"
      },
      "source": [
        "from sklearn.metrics import confusion_matrix\n",
        "\n",
        "def CM(Y_true, Y_pred, classes):\n",
        "  fig = plt.figure(figsize=(10, 10))\n",
        "  cm = confusion_matrix(Y_true, Y_pred)\n",
        "  lclasses = np.arange(0,classes)\n",
        "  cm = cm.astype('float') / cm.sum(axis=1)[:, np.newaxis]\n",
        "  cmap=plt.cm.Blues\n",
        "  ax = fig.add_subplot(1,1,1)\n",
        "  im = ax.imshow(cm, interpolation='nearest', cmap=cmap)\n",
        "  ax.figure.colorbar(im, ax=ax, pad=0.01, shrink=0.86)\n",
        "  ax.set(xticks=np.arange(cm.shape[1]), yticks=np.arange(cm.shape[0]),xticklabels=lclasses, yticklabels=lclasses)\n",
        "  ax.set_xlabel(\"Predicted\",size=20)\n",
        "  ax.set_ylabel(\"True\",size=20)\n",
        "  ax.set_ylim(classes-0.5, -0.5)\n",
        "\n",
        "  plt.setp(ax.get_xticklabels(), size=12)\n",
        "  plt.setp(ax.get_yticklabels(), size=12)\n",
        "\n",
        "  fmt = '.2f'\n",
        "  thresh = cm.max()/2.\n",
        "  for i in range(cm.shape[0]):\n",
        "      for j in range(cm.shape[1]):\n",
        "          ax.text(j, i, format(cm[i, j], fmt),ha=\"center\", va=\"center\",size=15 , color=\"white\" if cm[i, j] > thresh else \"black\")\n",
        "\n",
        "  plt.show()"
      ],
      "execution_count": 15,
      "outputs": []
    },
    {
      "cell_type": "code",
      "metadata": {
        "id": "y6ftOzUCLdAJ"
      },
      "source": [
        "from sklearn.metrics import f1_score\n",
        "\n",
        "def train_valid(model, n_epoch, optimizer, criterion):\n",
        "  loss_train = []\n",
        "  f1_train = []\n",
        "  acc_train = []\n",
        "\n",
        "  loss_valid = []\n",
        "  f1_valid = []\n",
        "  acc_valid = []\n",
        "\n",
        "  for epoch in range(n_epoch):\n",
        "    model.train()\n",
        "\n",
        "    Xtr = X_train.view(X_train.size(0), -1)\n",
        "    Y_pred = model(Xtr)\n",
        "\n",
        "    loss = criterion(Y_pred,Y_train)\n",
        "    loss_train.append(loss.item())\n",
        "\n",
        "    Y_pred = torch.argmax(Y_pred, 1)\n",
        "    f1_train.append( f1_score(Y_train,Y_pred, average='macro') )\n",
        "    \n",
        "    acc = sum(Y_train == Y_pred)/len(Y_pred)\n",
        "    acc_train.append(acc)\n",
        "\n",
        "    optimizer.zero_grad()\n",
        "    loss.backward()\n",
        "    optimizer.step()\n",
        "\n",
        "    model.eval()\n",
        "    Xvl = X_valid.view(X_valid.size(0), -1)\n",
        "    Y_pred = model(Xvl)  \n",
        "    loss = criterion(Y_pred,Y_valid)\n",
        "    loss_valid.append(loss.item())\n",
        "\n",
        "    Y_pred = torch.argmax(Y_pred, 1)\n",
        "    f1_valid.append( f1_score(Y_valid, Y_pred, average='macro') )\n",
        "\n",
        "    acc = sum(Y_valid == Y_pred)/len(Y_pred)\n",
        "    acc_valid.append(acc)\n",
        "\n",
        "  print( 'Valid Evaluation loss: {}. f1:{} acc: {} '.format(loss_valid[-1], f1_valid[-1], acc_valid[-1]) )\n",
        "  #CM(Y_valid, Y_pred, 10)"
      ],
      "execution_count": 24,
      "outputs": []
    },
    {
      "cell_type": "code",
      "metadata": {
        "colab": {
          "base_uri": "https://localhost:8080/",
          "height": 1000,
          "referenced_widgets": [
            "34cec648602e40b08ba402edccb2acd4",
            "55366cac00074e12964f8a33db7a9d0b",
            "a4b63834f76f421f9220089f5f412c62",
            "f8266c6e13db42a3bcb09912c8e9618c",
            "fe469bc34b304a56b9716b17bb831e81",
            "58460f489df34b8795e20319f4ac6ef8",
            "f33eacb365a747879a00e232a25613a7",
            "fe712ae2d6944f50b1160b469a2c9c59",
            "4907d51bdc3043fd93ec2226b764f2e1",
            "8218c46f54c940948a99beaea851d40c",
            "e6d11b99b9384dcb898894da5ab66ded"
          ]
        },
        "id": "5angHUECLd7c",
        "outputId": "4782da8c-e94f-4dba-8a45-075bf83f76b0"
      },
      "source": [
        "from torch.utils.data import DataLoader\n",
        "from torch.utils.data import TensorDataset\n",
        "from tqdm.notebook import tqdm\n",
        "\n",
        "hd_list = [20]\n",
        "\n",
        "#Número de epocas \n",
        "ne_list = [50]\n",
        "#Learning rate\n",
        "lr_list = [0.001,]\n",
        "#Weight decay\n",
        "wd_list = [0.001]\n",
        "#Batch size \n",
        "bs_list = [256]\n",
        "\n",
        "pbar = tqdm(total=len(bs_list)*len(lr_list)*len(wd_list)*len(hd_list)*len(ne_list))\n",
        "\n",
        "\n",
        "#--- Se definen los dos modelos a probar\n",
        "input_dim = 28*28\n",
        "out_dim = 10\n",
        "def models(index,hidden):\n",
        "  if index==0:\n",
        "    model = torch.nn.Sequential(\n",
        "      torch.nn.Linear(input_dim, hidden),\n",
        "      torch.nn.ReLU(),\n",
        "      torch.nn.Linear(hidden, out_dim)\n",
        "    )\n",
        "\n",
        "  if index==1:\n",
        "    model = torch.nn.Sequential(\n",
        "      torch.nn.Linear(input_dim, hidden),\n",
        "      torch.nn.ReLU(),\n",
        "      torch.nn.Linear(hidden, hidden),\n",
        "      torch.nn.ReLU(),\n",
        "      torch.nn.Linear(hidden, hidden),\n",
        "      torch.nn.ReLU(),\n",
        "      torch.nn.Linear(hidden, out_dim)\n",
        "    )\n",
        "  return model\n",
        "\n",
        "for ne in ne_list:\n",
        "  for bs in bs_list:\n",
        "    train_ds = TensorDataset(X_train, Y_train)\n",
        "    train_dl = DataLoader(train_ds, batch_size=bs, shuffle=True)\n",
        "\n",
        "    for lr in lr_list:\n",
        "      for wd in wd_list:\n",
        "        for hd in hd_list:\n",
        "          hidden = hd\n",
        "          for i in range(2):\n",
        "            model = models(i,hidden)\n",
        "\n",
        "            optimizer = torch.optim.Adam(model.parameters(), lr=lr, weight_decay=wd)\n",
        "            criterion = torch.nn.CrossEntropyLoss()\n",
        "\n",
        "            print('ne: {}, hd:{}, wd:{}, lr: {}, bs:{} '.format(ne,hd,wd,lr,bs))\n",
        "            train_valid(model,ne,optimizer,criterion)\n",
        "            print('###################\\n')\n",
        "\n",
        "          pbar.update()\n",
        "pbar.close()\n"
      ],
      "execution_count": 42,
      "outputs": [
        {
          "output_type": "display_data",
          "data": {
            "application/vnd.jupyter.widget-view+json": {
              "model_id": "34cec648602e40b08ba402edccb2acd4",
              "version_minor": 0,
              "version_major": 2
            },
            "text/plain": [
              "  0%|          | 0/1 [00:00<?, ?it/s]"
            ]
          },
          "metadata": {}
        },
        {
          "output_type": "stream",
          "text": [
            "ne: 50, hd:20, wd:0.001, lr: 0.001, bs:256 \n",
            "Valid Evaluation loss: 1.7122598886489868. f1:0.37266323906567206 acc: 0.4205000102519989 \n"
          ],
          "name": "stdout"
        },
        {
          "output_type": "display_data",
          "data": {
            "image/png": "[encoded data removed]",
            "text/plain": [
              "<Figure size 720x720 with 2 Axes>"
            ]
          },
          "metadata": {
            "needs_background": "light"
          }
        },
        {
          "output_type": "stream",
          "text": [
            "###################\n",
            "\n",
            "ne: 50, hd:20, wd:0.001, lr: 0.001, bs:256 \n",
            "Valid Evaluation loss: 0.6626107096672058. f1:0.7925690949676585 acc: 0.7919999957084656 \n"
          ],
          "name": "stdout"
        },
        {
          "output_type": "display_data",
          "data": {
            "image/png": "[encoded data removed]",
            "text/plain": [
              "<Figure size 720x720 with 2 Axes>"
            ]
          },
          "metadata": {
            "needs_background": "light"
          }
        },
        {
          "output_type": "stream",
          "text": [
            "###################\n",
            "\n"
          ],
          "name": "stdout"
        }
      ]
    },
    {
      "cell_type": "code",
      "metadata": {
        "colab": {
          "base_uri": "https://localhost:8080/"
        },
        "id": "dJSmSTY9Ligx",
        "outputId": "b8c653ce-6148-415f-9646-465db2474775"
      },
      "source": [
        "models"
      ],
      "execution_count": 28,
      "outputs": [
        {
          "output_type": "execute_result",
          "data": {
            "text/plain": [
              "[Sequential(\n",
              "   (0): Linear(in_features=784, out_features=20, bias=True)\n",
              "   (1): ReLU()\n",
              "   (2): Linear(in_features=20, out_features=10, bias=True)\n",
              " ), Sequential(\n",
              "   (0): Linear(in_features=784, out_features=20, bias=True)\n",
              "   (1): ReLU()\n",
              "   (2): Linear(in_features=784, out_features=20, bias=True)\n",
              "   (3): ReLU()\n",
              "   (4): Linear(in_features=784, out_features=20, bias=True)\n",
              "   (5): ReLU()\n",
              "   (6): Linear(in_features=20, out_features=10, bias=True)\n",
              " )]"
            ]
          },
          "metadata": {},
          "execution_count": 28
        }
      ]
    },
    {
      "cell_type": "code",
      "metadata": {
        "id": "ZS1VGzkiXSS0"
      },
      "source": [
        ""
      ],
      "execution_count": null,
      "outputs": []
    }
  ]
}